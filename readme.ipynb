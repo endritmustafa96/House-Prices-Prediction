{
 "cells": [
  {
   "cell_type": "markdown",
   "id": "3d6afd89-86d3-47c3-81a8-e929e7a37f4a",
   "metadata": {},
   "source": [
    "# Kaggle Competition: House Prices - Advanced Regression Techniques\n",
    "\n",
    "<img src=\"https://miro.medium.com/v2/resize:fit:720/format:webp/0*NCO1DF14J42HEQWR.jpg\" width=\"700\" height=\"500\">\n",
    "\n",
    "## Overview\n",
    "\n",
    "This repository contains the code and resources for my participation in the Kaggle competition House Prices - Advanced Regression Techniques. The goal of this competition is to predict the sale prices of houses based on various features. <br>\n",
    "\n",
    "The competition can be found on this link: https://www.kaggle.com/competitions/house-prices-advanced-regression-techniques\n",
    "\n",
    "## Project Structure\n",
    "The project is organized into three main directories:\n",
    "\n",
    "* data: \n",
    "\n",
    "This directory contains the data obtained from Kaggle. It includes both the training dataset (train.csv) and the test dataset (test.csv). Also here you can find the \"data_description.txt\" which it includes each feature details as provided from kaggle.\n",
    "\n",
    "* model: \n",
    "\n",
    "Here, you'll find the Jupyter Notebook (House_Prices_Prediction_Notebook.ipynb) where I created the prediction model. This notebook includes details about the data exploration, preprocessing, and the implementation of the prediction model using XGBoost with hyperparameter tuning using GridSearchCV.\n",
    "\n",
    "* stored_results: \n",
    "\n",
    "This directory holds the stored predictions of the test dataset. You can find the predictions in a CSV file (predicted_testdf_prices.csv), which includes the predicted sale prices for the houses in the test set.\n",
    "\n",
    "---\n",
    "\n",
    "Endrit Mustafa"
   ]
  }
 ],
 "metadata": {
  "kernelspec": {
   "display_name": "Python 3 (ipykernel)",
   "language": "python",
   "name": "python3"
  },
  "language_info": {
   "codemirror_mode": {
    "name": "ipython",
    "version": 3
   },
   "file_extension": ".py",
   "mimetype": "text/x-python",
   "name": "python",
   "nbconvert_exporter": "python",
   "pygments_lexer": "ipython3",
   "version": "3.11.4"
  }
 },
 "nbformat": 4,
 "nbformat_minor": 5
}
